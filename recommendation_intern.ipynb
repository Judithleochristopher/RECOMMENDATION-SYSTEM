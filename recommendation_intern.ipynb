import numpy as np
import pandas as pd
from sklearn.model_selection import train_test_split
from math import sqrt

# Load dataset
column_names = ['user_id', 'item_id', 'rating', 'timestamp']
data = pd.read_csv('u.data', sep='\t', names=column_names).drop('timestamp', axis=1)

# Map IDs to indices
user_map = {u: i for i, u in enumerate(data['user_id'].unique())}
item_map = {i: j for j, i in enumerate(data['item_id'].unique())}
data['user_index'] = data['user_id'].map(user_map)
data['item_index'] = data['item_id'].map(item_map)

# Split
train_data, test_data = train_test_split(data, test_size=0.2, random_state=42)

def matrix_factorization(train_data, n_users, n_items, K=20, epochs=20, alpha=0.005, beta=0.02):
    P = np.random.normal(scale=1./K, size=(n_users, K))
    Q = np.random.normal(scale=1./K, size=(n_items, K))
    b_u = np.zeros(n_users)
    b_i = np.zeros(n_items)
    mu = train_data['rating'].mean()
    samples = list(zip(train_data['user_index'], train_data['item_index'], train_data['rating']))

    for epoch in range(epochs):
        np.random.shuffle(samples)
        for u, i, r in samples:
            pred = mu + b_u[u] + b_i[i] + np.dot(P[u], Q[i])
            e = r - pred

            b_u[u] += alpha * (e - beta * b_u[u])
            b_i[i] += alpha * (e - beta * b_i[i])
            P[u] += alpha * (e * Q[i] - beta * P[u])
            Q[i] += alpha * (e * P[u] - beta * Q[i])
        if epoch % 5 == 0:
            print(f"Epoch {epoch} completed")
    return P, Q, b_u, b_i, mu

def compute_rmse(data, P, Q, b_u, b_i, mu):
    errors = []
    for _, row in data.iterrows():
        u = row['user_index']
        i = row['item_index']
        r = row['rating']
        pred = mu + b_u[u] + b_i[i] + np.dot(P[u], Q[i])
        errors.append((r - pred) ** 2)
    return sqrt(np.mean(errors))

n_users = data['user_index'].nunique()
n_items = data['item_index'].nunique()

P, Q, b_u, b_i, mu = matrix_factorization(train_data, n_users, n_items)
test_rmse = compute_rmse(test_data, P, Q, b_u, b_i, mu)
print(f"Test RMSE: {test_rmse:.4f}")

def recommend_top_n(user_id, P, Q, b_u, b_i, mu, item_map, user_map, n=5):
    user_idx = user_map[user_id]
    user_pred = mu + b_u[user_idx] + b_i + np.dot(Q, P[user_idx])
    top_n_idx = np.argsort(user_pred)[::-1][:n]
    item_inv_map = {v: k for k, v in item_map.items()}
    return [item_inv_map[i] for i in top_n_idx]

print("Top 5 recommended items for User 1:")
print(recommend_top_n(1, P, Q, b_u, b_i, mu, item_map, user_map))
